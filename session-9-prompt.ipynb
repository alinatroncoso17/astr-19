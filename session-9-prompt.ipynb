{
 "cells": [
  {
   "cell_type": "markdown",
   "id": "aad633a1-25bc-4a64-aab5-7544755cbafe",
   "metadata": {},
   "source": [
    "## Session 9 Prompt"
   ]
  },
  {
   "cell_type": "code",
   "execution_count": 1,
   "id": "7afa6f24-ddf0-4fd4-a573-77942755514e",
   "metadata": {},
   "outputs": [],
   "source": [
    "import numpy as np\n",
    "import matplotlib.pyplot as plt\n",
    "%matplotlib inline"
   ]
  },
  {
   "cell_type": "code",
   "execution_count": 23,
   "id": "ed57373b-0631-4af6-8c25-a010f10eddef",
   "metadata": {},
   "outputs": [
    {
     "data": {
      "text/plain": [
       "(array([ 0.,  0.,  1.,  0.,  0.,  2.,  1.,  2.,  7.,  3.,  6.,  1.,  6.,\n",
       "         9.,  6.,  8., 10., 13.,  6.,  4.,  4.,  5.,  2.,  2.,  1.,  0.,\n",
       "         0.,  1.,  0.]),\n",
       " array([-3.00000000e+00, -2.80000000e+00, -2.60000000e+00, -2.40000000e+00,\n",
       "        -2.20000000e+00, -2.00000000e+00, -1.80000000e+00, -1.60000000e+00,\n",
       "        -1.40000000e+00, -1.20000000e+00, -1.00000000e+00, -8.00000000e-01,\n",
       "        -6.00000000e-01, -4.00000000e-01, -2.00000000e-01,  2.66453526e-15,\n",
       "         2.00000000e-01,  4.00000000e-01,  6.00000000e-01,  8.00000000e-01,\n",
       "         1.00000000e+00,  1.20000000e+00,  1.40000000e+00,  1.60000000e+00,\n",
       "         1.80000000e+00,  2.00000000e+00,  2.20000000e+00,  2.40000000e+00,\n",
       "         2.60000000e+00,  2.80000000e+00]),\n",
       " <BarContainer object of 29 artists>)"
      ]
     },
     "execution_count": 23,
     "metadata": {},
     "output_type": "execute_result"
    },
    {
     "data": {
      "image/png": "[encoded data removed]",
      "text/plain": [
       "<Figure size 640x480 with 1 Axes>"
      ]
     },
     "metadata": {},
     "output_type": "display_data"
    }
   ],
   "source": [
    "#use numpy to pull 100 random numbers \n",
    "#distributed uniformly between [0,1]\n",
    "\n",
    "n = 1000 #number of random points to generate\n",
    "\n",
    "x = np.random.randn(100) #generating the random data\n",
    "\n",
    "#create the histogram bins\n",
    "width = 0.2\n",
    "histmin = np.floor(min(x))\n",
    "histmax = np.ceil(max(x))\n",
    "\n",
    "bins = np.arange( histmin, histmax, width)\n",
    "\n",
    "plt.hist(x, bins=bins, alpha = 0.5, edgecolor = 'red')"
   ]
  },
  {
   "cell_type": "code",
   "execution_count": null,
   "id": "65714117-57e3-4b8b-8e45-7c790a431ce6",
   "metadata": {},
   "outputs": [],
   "source": []
  },
  {
   "cell_type": "code",
   "execution_count": null,
   "id": "7866394d-051f-41da-b523-2899ea3504f4",
   "metadata": {},
   "outputs": [],
   "source": []
  }
 ],
 "metadata": {
  "kernelspec": {
   "display_name": "Python 3 (ipykernel)",
   "language": "python",
   "name": "python3"
  },
  "language_info": {
   "codemirror_mode": {
    "name": "ipython",
    "version": 3
   },
   "file_extension": ".py",
   "mimetype": "text/x-python",
   "name": "python",
   "nbconvert_exporter": "python",
   "pygments_lexer": "ipython3",
   "version": "3.12.1"
  }
 },
 "nbformat": 4,
 "nbformat_minor": 5
}
